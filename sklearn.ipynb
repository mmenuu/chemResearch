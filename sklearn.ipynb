{
  "nbformat": 4,
  "nbformat_minor": 0,
  "metadata": {
    "colab": {
      "provenance": []
    },
    "kernelspec": {
      "name": "python3",
      "display_name": "Python 3"
    },
    "language_info": {
      "name": "python"
    }
  },
  "cells": [
    {
      "cell_type": "code",
      "execution_count": 1,
      "metadata": {
        "id": "9sjV5_cHOhqb"
      },
      "outputs": [],
      "source": [
        "import numpy as np\n",
        "import pandas as pd\n",
        "\n",
        "from sklearn.model_selection import KFold\n",
        "from sklearn.model_selection import cross_validate"
      ]
    },
    {
      "cell_type": "markdown",
      "source": [
        "## Read Data"
      ],
      "metadata": {
        "id": "VeR-cVzDRZLG"
      }
    },
    {
      "cell_type": "code",
      "source": [
        "CSV_PATH = \"https://docs.google.com/spreadsheets/d/e/2PACX-1vROupcEcGFWafl16RmdNcSg7J3ZfCyD1socrrhGBwE0JBD_G7GN7r8YvYKSvyQzsxRW19MYpLkRClrU/pub?gid=0&single=true&output=csv\""
      ],
      "metadata": {
        "id": "PKoF_WN6O30-"
      },
      "execution_count": 2,
      "outputs": []
    },
    {
      "cell_type": "code",
      "source": [
        "df = pd.read_csv(CSV_PATH)"
      ],
      "metadata": {
        "id": "szhRDFLBOyp1"
      },
      "execution_count": 3,
      "outputs": []
    },
    {
      "cell_type": "code",
      "source": [
        "X = df.drop(['type', 'y'], axis=1) #[df.columns[1:10]]\n",
        "y = df['y']\n",
        "\n",
        "kf = KFold(n_splits=3, shuffle=True)\n",
        "\n",
        "matric = 'f1_micro'"
      ],
      "metadata": {
        "id": "WSchtSQ4O_PI"
      },
      "execution_count": 4,
      "outputs": []
    },
    {
      "cell_type": "code",
      "source": [
        "X.head()"
      ],
      "metadata": {
        "colab": {
          "base_uri": "https://localhost:8080/",
          "height": 235
        },
        "id": "6K68EdjL0iie",
        "outputId": "5a6b092c-98ea-44f4-a2a1-74b2d196b0de"
      },
      "execution_count": 5,
      "outputs": [
        {
          "output_type": "execute_result",
          "data": {
            "text/plain": [
              "    x01   x02   x03  x04  x05   x06  x07  x08  x09  x10  ...  x61  x62  x63  \\\n",
              "0  0.05  0.82  0.47  0.0  0.0  17.8  0.8  0.0  0.0  0.0  ...    0    0    0   \n",
              "1  0.05  0.82  0.47  0.0  0.0  17.8  0.8  0.0  0.0  0.0  ...    0    0    0   \n",
              "2  0.04  0.60  0.30  0.0  0.0  17.1  4.2  0.0  0.3  0.0  ...    0    0    0   \n",
              "3  0.04  0.60  0.30  0.0  0.0  17.1  4.2  0.0  0.3  0.0  ...    0    0    0   \n",
              "4  0.07  1.28  0.66  0.0  0.0  18.3  8.6  0.0  0.4  0.0  ...    0    0    0   \n",
              "\n",
              "   x64  x65  x66  x67  x68  x69  x70  \n",
              "0    0    0    0    0    0    0    0  \n",
              "1    0    0    0    0    0    0    0  \n",
              "2    0    0    0    0    0    0    0  \n",
              "3    0    0    0    0    0    0    0  \n",
              "4    0    0    0    0    0    0    0  \n",
              "\n",
              "[5 rows x 70 columns]"
            ],
            "text/html": [
              "\n",
              "  <div id=\"df-3948a48c-194c-4610-bdc0-ac202f7d4a42\">\n",
              "    <div class=\"colab-df-container\">\n",
              "      <div>\n",
              "<style scoped>\n",
              "    .dataframe tbody tr th:only-of-type {\n",
              "        vertical-align: middle;\n",
              "    }\n",
              "\n",
              "    .dataframe tbody tr th {\n",
              "        vertical-align: top;\n",
              "    }\n",
              "\n",
              "    .dataframe thead th {\n",
              "        text-align: right;\n",
              "    }\n",
              "</style>\n",
              "<table border=\"1\" class=\"dataframe\">\n",
              "  <thead>\n",
              "    <tr style=\"text-align: right;\">\n",
              "      <th></th>\n",
              "      <th>x01</th>\n",
              "      <th>x02</th>\n",
              "      <th>x03</th>\n",
              "      <th>x04</th>\n",
              "      <th>x05</th>\n",
              "      <th>x06</th>\n",
              "      <th>x07</th>\n",
              "      <th>x08</th>\n",
              "      <th>x09</th>\n",
              "      <th>x10</th>\n",
              "      <th>...</th>\n",
              "      <th>x61</th>\n",
              "      <th>x62</th>\n",
              "      <th>x63</th>\n",
              "      <th>x64</th>\n",
              "      <th>x65</th>\n",
              "      <th>x66</th>\n",
              "      <th>x67</th>\n",
              "      <th>x68</th>\n",
              "      <th>x69</th>\n",
              "      <th>x70</th>\n",
              "    </tr>\n",
              "  </thead>\n",
              "  <tbody>\n",
              "    <tr>\n",
              "      <th>0</th>\n",
              "      <td>0.05</td>\n",
              "      <td>0.82</td>\n",
              "      <td>0.47</td>\n",
              "      <td>0.0</td>\n",
              "      <td>0.0</td>\n",
              "      <td>17.8</td>\n",
              "      <td>0.8</td>\n",
              "      <td>0.0</td>\n",
              "      <td>0.0</td>\n",
              "      <td>0.0</td>\n",
              "      <td>...</td>\n",
              "      <td>0</td>\n",
              "      <td>0</td>\n",
              "      <td>0</td>\n",
              "      <td>0</td>\n",
              "      <td>0</td>\n",
              "      <td>0</td>\n",
              "      <td>0</td>\n",
              "      <td>0</td>\n",
              "      <td>0</td>\n",
              "      <td>0</td>\n",
              "    </tr>\n",
              "    <tr>\n",
              "      <th>1</th>\n",
              "      <td>0.05</td>\n",
              "      <td>0.82</td>\n",
              "      <td>0.47</td>\n",
              "      <td>0.0</td>\n",
              "      <td>0.0</td>\n",
              "      <td>17.8</td>\n",
              "      <td>0.8</td>\n",
              "      <td>0.0</td>\n",
              "      <td>0.0</td>\n",
              "      <td>0.0</td>\n",
              "      <td>...</td>\n",
              "      <td>0</td>\n",
              "      <td>0</td>\n",
              "      <td>0</td>\n",
              "      <td>0</td>\n",
              "      <td>0</td>\n",
              "      <td>0</td>\n",
              "      <td>0</td>\n",
              "      <td>0</td>\n",
              "      <td>0</td>\n",
              "      <td>0</td>\n",
              "    </tr>\n",
              "    <tr>\n",
              "      <th>2</th>\n",
              "      <td>0.04</td>\n",
              "      <td>0.60</td>\n",
              "      <td>0.30</td>\n",
              "      <td>0.0</td>\n",
              "      <td>0.0</td>\n",
              "      <td>17.1</td>\n",
              "      <td>4.2</td>\n",
              "      <td>0.0</td>\n",
              "      <td>0.3</td>\n",
              "      <td>0.0</td>\n",
              "      <td>...</td>\n",
              "      <td>0</td>\n",
              "      <td>0</td>\n",
              "      <td>0</td>\n",
              "      <td>0</td>\n",
              "      <td>0</td>\n",
              "      <td>0</td>\n",
              "      <td>0</td>\n",
              "      <td>0</td>\n",
              "      <td>0</td>\n",
              "      <td>0</td>\n",
              "    </tr>\n",
              "    <tr>\n",
              "      <th>3</th>\n",
              "      <td>0.04</td>\n",
              "      <td>0.60</td>\n",
              "      <td>0.30</td>\n",
              "      <td>0.0</td>\n",
              "      <td>0.0</td>\n",
              "      <td>17.1</td>\n",
              "      <td>4.2</td>\n",
              "      <td>0.0</td>\n",
              "      <td>0.3</td>\n",
              "      <td>0.0</td>\n",
              "      <td>...</td>\n",
              "      <td>0</td>\n",
              "      <td>0</td>\n",
              "      <td>0</td>\n",
              "      <td>0</td>\n",
              "      <td>0</td>\n",
              "      <td>0</td>\n",
              "      <td>0</td>\n",
              "      <td>0</td>\n",
              "      <td>0</td>\n",
              "      <td>0</td>\n",
              "    </tr>\n",
              "    <tr>\n",
              "      <th>4</th>\n",
              "      <td>0.07</td>\n",
              "      <td>1.28</td>\n",
              "      <td>0.66</td>\n",
              "      <td>0.0</td>\n",
              "      <td>0.0</td>\n",
              "      <td>18.3</td>\n",
              "      <td>8.6</td>\n",
              "      <td>0.0</td>\n",
              "      <td>0.4</td>\n",
              "      <td>0.0</td>\n",
              "      <td>...</td>\n",
              "      <td>0</td>\n",
              "      <td>0</td>\n",
              "      <td>0</td>\n",
              "      <td>0</td>\n",
              "      <td>0</td>\n",
              "      <td>0</td>\n",
              "      <td>0</td>\n",
              "      <td>0</td>\n",
              "      <td>0</td>\n",
              "      <td>0</td>\n",
              "    </tr>\n",
              "  </tbody>\n",
              "</table>\n",
              "<p>5 rows × 70 columns</p>\n",
              "</div>\n",
              "      <button class=\"colab-df-convert\" onclick=\"convertToInteractive('df-3948a48c-194c-4610-bdc0-ac202f7d4a42')\"\n",
              "              title=\"Convert this dataframe to an interactive table.\"\n",
              "              style=\"display:none;\">\n",
              "        \n",
              "  <svg xmlns=\"http://www.w3.org/2000/svg\" height=\"24px\"viewBox=\"0 0 24 24\"\n",
              "       width=\"24px\">\n",
              "    <path d=\"M0 0h24v24H0V0z\" fill=\"none\"/>\n",
              "    <path d=\"M18.56 5.44l.94 2.06.94-2.06 2.06-.94-2.06-.94-.94-2.06-.94 2.06-2.06.94zm-11 1L8.5 8.5l.94-2.06 2.06-.94-2.06-.94L8.5 2.5l-.94 2.06-2.06.94zm10 10l.94 2.06.94-2.06 2.06-.94-2.06-.94-.94-2.06-.94 2.06-2.06.94z\"/><path d=\"M17.41 7.96l-1.37-1.37c-.4-.4-.92-.59-1.43-.59-.52 0-1.04.2-1.43.59L10.3 9.45l-7.72 7.72c-.78.78-.78 2.05 0 2.83L4 21.41c.39.39.9.59 1.41.59.51 0 1.02-.2 1.41-.59l7.78-7.78 2.81-2.81c.8-.78.8-2.07 0-2.86zM5.41 20L4 18.59l7.72-7.72 1.47 1.35L5.41 20z\"/>\n",
              "  </svg>\n",
              "      </button>\n",
              "      \n",
              "  <style>\n",
              "    .colab-df-container {\n",
              "      display:flex;\n",
              "      flex-wrap:wrap;\n",
              "      gap: 12px;\n",
              "    }\n",
              "\n",
              "    .colab-df-convert {\n",
              "      background-color: #E8F0FE;\n",
              "      border: none;\n",
              "      border-radius: 50%;\n",
              "      cursor: pointer;\n",
              "      display: none;\n",
              "      fill: #1967D2;\n",
              "      height: 32px;\n",
              "      padding: 0 0 0 0;\n",
              "      width: 32px;\n",
              "    }\n",
              "\n",
              "    .colab-df-convert:hover {\n",
              "      background-color: #E2EBFA;\n",
              "      box-shadow: 0px 1px 2px rgba(60, 64, 67, 0.3), 0px 1px 3px 1px rgba(60, 64, 67, 0.15);\n",
              "      fill: #174EA6;\n",
              "    }\n",
              "\n",
              "    [theme=dark] .colab-df-convert {\n",
              "      background-color: #3B4455;\n",
              "      fill: #D2E3FC;\n",
              "    }\n",
              "\n",
              "    [theme=dark] .colab-df-convert:hover {\n",
              "      background-color: #434B5C;\n",
              "      box-shadow: 0px 1px 3px 1px rgba(0, 0, 0, 0.15);\n",
              "      filter: drop-shadow(0px 1px 2px rgba(0, 0, 0, 0.3));\n",
              "      fill: #FFFFFF;\n",
              "    }\n",
              "  </style>\n",
              "\n",
              "      <script>\n",
              "        const buttonEl =\n",
              "          document.querySelector('#df-3948a48c-194c-4610-bdc0-ac202f7d4a42 button.colab-df-convert');\n",
              "        buttonEl.style.display =\n",
              "          google.colab.kernel.accessAllowed ? 'block' : 'none';\n",
              "\n",
              "        async function convertToInteractive(key) {\n",
              "          const element = document.querySelector('#df-3948a48c-194c-4610-bdc0-ac202f7d4a42');\n",
              "          const dataTable =\n",
              "            await google.colab.kernel.invokeFunction('convertToInteractive',\n",
              "                                                     [key], {});\n",
              "          if (!dataTable) return;\n",
              "\n",
              "          const docLinkHtml = 'Like what you see? Visit the ' +\n",
              "            '<a target=\"_blank\" href=https://colab.research.google.com/notebooks/data_table.ipynb>data table notebook</a>'\n",
              "            + ' to learn more about interactive tables.';\n",
              "          element.innerHTML = '';\n",
              "          dataTable['output_type'] = 'display_data';\n",
              "          await google.colab.output.renderOutput(dataTable, element);\n",
              "          const docLink = document.createElement('div');\n",
              "          docLink.innerHTML = docLinkHtml;\n",
              "          element.appendChild(docLink);\n",
              "        }\n",
              "      </script>\n",
              "    </div>\n",
              "  </div>\n",
              "  "
            ]
          },
          "metadata": {},
          "execution_count": 5
        }
      ]
    },
    {
      "cell_type": "markdown",
      "source": [
        "## Learning"
      ],
      "metadata": {
        "id": "8wAbaEBhRbJH"
      }
    },
    {
      "cell_type": "code",
      "source": [
        "# Logistic Regression\n",
        "\n",
        "from sklearn.linear_model import LogisticRegression\n",
        "\n",
        "model = LogisticRegression(max_iter=10000)\n",
        "\n",
        "cv_results = cross_validate(model, X, y, cv=kf, scoring=matric)\n",
        "\n",
        "#print(cv_results)\n",
        "#print('F1 all :', cv_results['test_score'])\n",
        "print('F1 : ', np.mean(cv_results['test_score']))"
      ],
      "metadata": {
        "colab": {
          "base_uri": "https://localhost:8080/"
        },
        "id": "kgoMFJEJO7oU",
        "outputId": "a2c4b6f9-fe86-47f7-f0c4-33165da434b4"
      },
      "execution_count": 6,
      "outputs": [
        {
          "output_type": "stream",
          "name": "stdout",
          "text": [
            "F1 :  0.8632478632478633\n"
          ]
        }
      ]
    },
    {
      "cell_type": "code",
      "source": [
        "# ANN\n",
        "\n",
        "from sklearn.neural_network import MLPClassifier\n",
        "\n",
        "model = MLPClassifier(hidden_layer_sizes=(5,3), activation='relu', max_iter=1000)\n",
        "\n",
        "cv_results = cross_validate(model, X, y, cv=kf, scoring=matric)\n",
        "\n",
        "#print(cv_results)\n",
        "#print('F1 all :', cv_results['test_score'])\n",
        "print('F1 : ', np.mean(cv_results['test_score']))"
      ],
      "metadata": {
        "colab": {
          "base_uri": "https://localhost:8080/"
        },
        "id": "qXUt7wrET2Nm",
        "outputId": "082e18fd-7c73-4af3-db11-15964cc4ea8a"
      },
      "execution_count": 8,
      "outputs": [
        {
          "output_type": "stream",
          "name": "stdout",
          "text": [
            "F1 :  0.3974358974358974\n"
          ]
        }
      ]
    },
    {
      "cell_type": "code",
      "source": [
        "# D Tree\n",
        "\n",
        "from sklearn.tree import DecisionTreeClassifier\n",
        "\n",
        "model = DecisionTreeClassifier()\n",
        "\n",
        "cv_results = cross_validate(model, X, y, cv=kf, scoring=matric)\n",
        "\n",
        "#print(cv_results)\n",
        "#print('F1 all :', cv_results['test_score'])\n",
        "print('F1 : ', np.mean(cv_results['test_score']))"
      ],
      "metadata": {
        "colab": {
          "base_uri": "https://localhost:8080/"
        },
        "outputId": "76730b24-7a39-4656-d43c-98e8e09b3d33",
        "id": "wyOoOoThU2Wf"
      },
      "execution_count": 9,
      "outputs": [
        {
          "output_type": "stream",
          "name": "stdout",
          "text": [
            "F1 :  0.8547008547008547\n"
          ]
        }
      ]
    },
    {
      "cell_type": "code",
      "source": [
        "# Random Forest\n",
        "\n",
        "from sklearn.ensemble import RandomForestClassifier\n",
        "\n",
        "model = RandomForestClassifier(n_estimators=101)\n",
        "\n",
        "cv_results = cross_validate(model, X, y, cv=kf, scoring=matric)\n",
        "\n",
        "#print(cv_results)\n",
        "#print('F1 all :', cv_results['test_score'])\n",
        "print('F1 : ', np.mean(cv_results['test_score']))"
      ],
      "metadata": {
        "colab": {
          "base_uri": "https://localhost:8080/"
        },
        "id": "IP_I3j5OzoS_",
        "outputId": "dac2ec24-f802-4a92-e77d-3ec93b3f4378"
      },
      "execution_count": 10,
      "outputs": [
        {
          "output_type": "stream",
          "name": "stdout",
          "text": [
            "F1 :  0.8760683760683761\n"
          ]
        }
      ]
    },
    {
      "cell_type": "code",
      "source": [
        "# KNN\n",
        "\n",
        "from sklearn.neighbors import KNeighborsClassifier\n",
        "\n",
        "model = KNeighborsClassifier(n_neighbors=9)\n",
        "\n",
        "cv_results = cross_validate(model, X, y, cv=kf, scoring=matric)\n",
        "\n",
        "#print(cv_results)\n",
        "#print('F1 all :', cv_results['test_score'])\n",
        "print('F1 : ', np.mean(cv_results['test_score']))"
      ],
      "metadata": {
        "colab": {
          "base_uri": "https://localhost:8080/"
        },
        "id": "W2UAY0dMRmrT",
        "outputId": "d1880b2b-5fe2-494c-9bf0-9d996b98122c"
      },
      "execution_count": 7,
      "outputs": [
        {
          "output_type": "stream",
          "name": "stdout",
          "text": [
            "F1 :  0.8504273504273504\n"
          ]
        }
      ]
    },
    {
      "cell_type": "code",
      "source": [
        "tuned_knn = KNeighborsClassifier(algorithm='ball_tree', leaf_size=1, metric='minkowski',\n",
        "                     metric_params=None, n_jobs=None, n_neighbors=150, p=2,\n",
        "                     weights='distance')\n",
        "cv_results = cross_validate(tuned_knn, X, y, cv=kf, scoring=matric)\n",
        "print('F1 : ', np.mean(cv_results['test_score']))"
      ],
      "metadata": {
        "colab": {
          "base_uri": "https://localhost:8080/"
        },
        "id": "az6EbhHdLxa9",
        "outputId": "0c1558eb-8b16-4234-d944-33a7c953dcdf"
      },
      "execution_count": 17,
      "outputs": [
        {
          "output_type": "stream",
          "name": "stdout",
          "text": [
            "F1 :  0.8675213675213675\n"
          ]
        }
      ]
    },
    {
      "cell_type": "code",
      "source": [
        "import numpy as np\n",
        "import pandas as pd\n",
        "from sklearn.model_selection import KFold, cross_validate\n",
        "from sklearn.ensemble import RandomForestClassifier\n",
        "\n",
        "CSV_PATH = \"https://docs.google.com/spreadsheets/d/e/2PACX-1vROupcEcGFWafl16RmdNcSg7J3ZfCyD1socrrhGBwE0JBD_G7GN7r8YvYKSvyQzsxRW19MYpLkRClrU/pub?gid=0&single=true&output=csv\"\n",
        "df = pd.read_csv(CSV_PATH)\n",
        "X = df.drop(['type', 'y'], axis=1)\n",
        "y = df['y']\n",
        "\n",
        "kf = KFold(n_splits=3, shuffle=True)\n",
        "metric = 'f1_micro'\n",
        "\n",
        "# Define hyperparameters to tune\n",
        "hyperparameters = {\n",
        "    'n_estimators': [100, 200, 300, 400, 500],\n",
        "    'max_depth': [None, 5, 10, 15],\n",
        "    'min_samples_split': [2, 5, 10],\n",
        "    'min_samples_leaf': [1, 2, 4],\n",
        "    'max_features': ['sqrt', 'log2']\n",
        "}\n",
        "\n",
        "best_f1_score = 0.0\n",
        "best_model = None\n",
        "\n",
        "# Perform hyperparameter tuning\n",
        "for n_estimators in hyperparameters['n_estimators']:\n",
        "    for max_depth in hyperparameters['max_depth']:\n",
        "        for min_samples_split in hyperparameters['min_samples_split']:\n",
        "            for min_samples_leaf in hyperparameters['min_samples_leaf']:\n",
        "                for max_features in hyperparameters['max_features']:\n",
        "                    model = RandomForestClassifier(n_estimators=n_estimators, max_depth=max_depth,\n",
        "                                                   min_samples_split=min_samples_split,\n",
        "                                                   min_samples_leaf=min_samples_leaf, max_features=max_features)\n",
        "\n",
        "                    cv_results = cross_validate(model, X, y, cv=kf, scoring=metric)\n",
        "                    average_f1_score = np.mean(cv_results['test_score'])\n",
        "\n",
        "                    if average_f1_score > best_f1_score:\n",
        "                        best_f1_score = average_f1_score\n",
        "                        best_model = model\n",
        "\n",
        "# Print the best F1 score and the corresponding model\n",
        "print('Best F1 Score:', best_f1_score)\n",
        "print('Best Model:', best_model)\n"
      ],
      "metadata": {
        "colab": {
          "base_uri": "https://localhost:8080/"
        },
        "id": "7AdSrpQM5CbY",
        "outputId": "1048ead1-226f-4502-adeb-72ea3dc1f585"
      },
      "execution_count": 11,
      "outputs": [
        {
          "output_type": "stream",
          "name": "stdout",
          "text": [
            "Best F1 Score: 0.9102564102564102\n",
            "Best Model: RandomForestClassifier(max_depth=10, min_samples_leaf=2, min_samples_split=5,\n",
            "                       n_estimators=200)\n"
          ]
        }
      ]
    },
    {
      "cell_type": "code",
      "source": [
        "import numpy as np\n",
        "import pandas as pd\n",
        "from sklearn.model_selection import KFold, cross_validate\n",
        "from sklearn.ensemble import RandomForestClassifier\n",
        "from imblearn.over_sampling import RandomOverSampler\n",
        "\n",
        "CSV_PATH = \"https://docs.google.com/spreadsheets/d/e/2PACX-1vROupcEcGFWafl16RmdNcSg7J3ZfCyD1socrrhGBwE0JBD_G7GN7r8YvYKSvyQzsxRW19MYpLkRClrU/pub?gid=0&single=true&output=csv\"\n",
        "df = pd.read_csv(CSV_PATH)\n",
        "X = df.drop(['type', 'y'], axis=1)\n",
        "y = df['y']\n",
        "\n",
        "ros = RandomOverSampler()\n",
        "X_resampled, y_resampled = ros.fit_resample(X, y)\n",
        "\n",
        "kf = KFold(n_splits=3, shuffle=True)\n",
        "metric = 'f1_micro'\n",
        "\n",
        "# Define hyperparameters to tune\n",
        "hyperparameters = {\n",
        "    'n_estimators': [100, 200, 300, 400, 500],\n",
        "    'max_depth': [None, 5, 10, 15],\n",
        "    'min_samples_split': [2, 5, 10],\n",
        "    'min_samples_leaf': [1, 2, 4],\n",
        "    'max_features': ['sqrt', 'log2']\n",
        "}\n",
        "\n",
        "best_f1_score = 0.0\n",
        "best_model = None\n",
        "\n",
        "# Perform hyperparameter tuning\n",
        "for n_estimators in hyperparameters['n_estimators']:\n",
        "    for max_depth in hyperparameters['max_depth']:\n",
        "        for min_samples_split in hyperparameters['min_samples_split']:\n",
        "            for min_samples_leaf in hyperparameters['min_samples_leaf']:\n",
        "                for max_features in hyperparameters['max_features']:\n",
        "                    model = RandomForestClassifier(n_estimators=n_estimators, max_depth=max_depth,\n",
        "                                                   min_samples_split=min_samples_split,\n",
        "                                                   min_samples_leaf=min_samples_leaf, max_features=max_features)\n",
        "\n",
        "                    cv_results = cross_validate(model, X_resampled, y_resampled, cv=kf, scoring=metric)\n",
        "                    average_f1_score = np.mean(cv_results['test_score'])\n",
        "\n",
        "                    if average_f1_score > best_f1_score:\n",
        "                        best_f1_score = average_f1_score\n",
        "                        best_model = model\n",
        "\n",
        "# Print the best F1 score and the corresponding model\n",
        "print('Best F1 Score:', best_f1_score)\n",
        "print('Best Model:', best_model)\n"
      ],
      "metadata": {
        "colab": {
          "base_uri": "https://localhost:8080/"
        },
        "id": "GkzkdNAlAqSg",
        "outputId": "5ef2efac-8c42-4467-a8f5-c727a89c6f53"
      },
      "execution_count": 13,
      "outputs": [
        {
          "output_type": "stream",
          "name": "stdout",
          "text": [
            "Best F1 Score: 0.9648363332573858\n",
            "Best Model: RandomForestClassifier(max_depth=15, max_features='log2', n_estimators=400)\n"
          ]
        }
      ]
    }
  ]
}