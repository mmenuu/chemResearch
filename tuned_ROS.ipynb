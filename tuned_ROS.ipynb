{
  "nbformat": 4,
  "nbformat_minor": 0,
  "metadata": {
    "colab": {
      "provenance": []
    },
    "kernelspec": {
      "name": "python3",
      "display_name": "Python 3"
    },
    "language_info": {
      "name": "python"
    }
  },
  "cells": [
    {
      "cell_type": "code",
      "execution_count": null,
      "metadata": {
        "id": "TWbuiIPzIVbu"
      },
      "outputs": [],
      "source": [
        "import numpy as np\n",
        "import pandas as pd\n",
        "from sklearn.model_selection import KFold, cross_validate\n",
        "from sklearn.ensemble import RandomForestClassifier\n",
        "from imblearn.over_sampling import RandomOverSampler\n",
        "\n",
        "CSV_PATH = \"https://docs.google.com/spreadsheets/d/e/2PACX-1vROupcEcGFWafl16RmdNcSg7J3ZfCyD1socrrhGBwE0JBD_G7GN7r8YvYKSvyQzsxRW19MYpLkRClrU/pub?gid=0&single=true&output=csv\"\n",
        "df = pd.read_csv(CSV_PATH)\n",
        "X = df.drop(['type', 'y'], axis=1)\n",
        "y = df['y']\n",
        "\n",
        "ros = RandomOverSampler()\n",
        "X_resampled, y_resampled = ros.fit_resample(X, y)\n",
        "\n",
        "kf = KFold(n_splits=3, shuffle=True)\n",
        "metric = 'f1_micro'\n",
        "\n",
        "# Define hyperparameters to tune\n",
        "hyperparameters = {\n",
        "    'n_estimators': [100, 200, 300, 400, 500],\n",
        "    'max_depth': [None, 5, 10, 15],\n",
        "    'min_samples_split': [2, 5, 10],\n",
        "    'min_samples_leaf': [1, 2, 4],\n",
        "    'max_features': ['sqrt', 'log2']\n",
        "}\n",
        "\n",
        "best_f1_score = 0.0\n",
        "best_model = None\n",
        "\n",
        "# Perform hyperparameter tuning\n",
        "for n_estimators in hyperparameters['n_estimators']:\n",
        "    for max_depth in hyperparameters['max_depth']:\n",
        "        for min_samples_split in hyperparameters['min_samples_split']:\n",
        "            for min_samples_leaf in hyperparameters['min_samples_leaf']:\n",
        "                for max_features in hyperparameters['max_features']:\n",
        "                    model = RandomForestClassifier(n_estimators=n_estimators, max_depth=max_depth,\n",
        "                                                   min_samples_split=min_samples_split,\n",
        "                                                   min_samples_leaf=min_samples_leaf, max_features=max_features)\n",
        "\n",
        "                    cv_results = cross_validate(model, X_resampled, y_resampled, cv=kf, scoring=metric)\n",
        "                    average_f1_score = np.mean(cv_results['test_score'])\n",
        "\n",
        "                    if average_f1_score > best_f1_score:\n",
        "                        best_f1_score = average_f1_score\n",
        "                        best_model = model\n",
        "\n",
        "# Print the best F1 score and the corresponding model\n",
        "print('Best F1 Score:', best_f1_score)\n",
        "print('Best Model:', best_model)\n"
      ]
    }
  ]
}